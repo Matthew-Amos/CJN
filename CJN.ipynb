{
 "cells": [
  {
   "cell_type": "code",
   "execution_count": 73,
   "metadata": {},
   "outputs": [
    {
     "data": {
      "text/plain": [
       "\"\\nThis compiles all of a notebook's code cells into a single file.\\n\""
      ]
     },
     "execution_count": 73,
     "metadata": {},
     "output_type": "execute_result"
    }
   ],
   "source": [
    "#% ignore\n",
    "\"\"\"\n",
    "This compiles all of a notebook's code cells into a single file.\n",
    "\"\"\""
   ]
  },
  {
   "cell_type": "code",
   "execution_count": 37,
   "metadata": {},
   "outputs": [],
   "source": [
    "#% compile\n",
    "import json"
   ]
  },
  {
   "cell_type": "code",
   "execution_count": 82,
   "metadata": {},
   "outputs": [],
   "source": [
    "#% compile\n",
    "def _read_json(fpath):\n",
    "    with open(fpath, 'r') as f:\n",
    "        s = f.read()\n",
    "    return json.loads(s)"
   ]
  },
  {
   "cell_type": "code",
   "execution_count": 89,
   "metadata": {},
   "outputs": [],
   "source": [
    "#% compile\n",
    "def _clean_cell_head(cell):\n",
    "    return cell['source'][0].upper().strip()\n",
    "\n",
    "def _cell_can_compile(cell, opts):\n",
    "    if not cell['cell_type']=='code':\n",
    "        return False\n",
    "    if len(cell['source'])==0:\n",
    "        return False\n",
    "    if _clean_cell_head(cell)==\"#% IGNORE\":\n",
    "        return False\n",
    "    if 'compile_marked' in opts:\n",
    "        if opts['compile_marked']:\n",
    "            if _clean_cell_head(cell)==\"#% COMPILE\":\n",
    "                return True\n",
    "            else:\n",
    "                return False\n",
    "    return True\n",
    "\n",
    "def compile_notebook(notebook, output, opts={}):\n",
    "    nb = _read_json(notebook)\n",
    "    code = ''\n",
    "    \n",
    "    for cell in nb['cells']:\n",
    "        if _cell_can_compile(cell, opts):\n",
    "            for i in range(len(cell['source'])):\n",
    "                line = cell['source'][i]\n",
    "                if i > 0 or line[0:2] != '#%':\n",
    "                    code += line\n",
    "            code += '\\n\\n'\n",
    "    \n",
    "    with open(output, 'w') as f:\n",
    "        f.write(code)"
   ]
  },
  {
   "cell_type": "code",
   "execution_count": 87,
   "metadata": {},
   "outputs": [],
   "source": [
    "#% ignore\n",
    "compile_notebook(\"CJN.ipynb\", \"CJN.py\", opts={'compile_marked': True})"
   ]
  },
  {
   "cell_type": "code",
   "execution_count": 77,
   "metadata": {},
   "outputs": [],
   "source": [
    "#% compile\n",
    "def load_compscript(compscript):\n",
    "    return _read_json(compscript)\n",
    "\n",
    "def save_compscript(script_def, compscript):\n",
    "    j = json.dumps(script_def)\n",
    "    with open(output, 'w') as f:\n",
    "        f.write(j)\n",
    "\n",
    "def append_compscript(file_defs, compscript):\n",
    "    j = load_compscript(compscript)\n",
    "    for fd in file_defs.keys():\n",
    "        j[fd] = file_defs[fd]\n",
    "    save_compscript(j, compscript)"
   ]
  },
  {
   "cell_type": "code",
   "execution_count": 76,
   "metadata": {},
   "outputs": [
    {
     "data": {
      "text/plain": [
       "'{\"CJN.ipynb\": {\"output\": \"CJN.py\", \"opts\": {\"compile_marked\": true}}}'"
      ]
     },
     "execution_count": 76,
     "metadata": {},
     "output_type": "execute_result"
    }
   ],
   "source": [
    "#% ignore\n",
    "ex_compilescript = {\n",
    "    'CJN.ipynb': {\n",
    "        'output': 'CJN.py',\n",
    "        'opts': {'compile_marked': True}\n",
    "    }\n",
    "}\n",
    "\n",
    "json.dumps(ex_compilescript)"
   ]
  },
  {
   "cell_type": "code",
   "execution_count": 79,
   "metadata": {},
   "outputs": [],
   "source": [
    "#% compile\n",
    "def run_compile_script(compscript):\n",
    "    cs = load_compscript(compscript)\n",
    "    \n",
    "    for f in cs.keys():\n",
    "        compile_notebook(f, cs[f]['output'], cs[f]['opts'])"
   ]
  },
  {
   "cell_type": "code",
   "execution_count": 90,
   "metadata": {},
   "outputs": [],
   "source": [
    "#% ignore\n",
    "save_compscript({'CJN.ipynb': {'output': 'CJN.py', 'opts': {'compile_marked': False}}}, 'compile.json')\n",
    "run_compile_script('compile.json')"
   ]
  },
  {
   "cell_type": "code",
   "execution_count": null,
   "metadata": {},
   "outputs": [],
   "source": []
  }
 ],
 "metadata": {
  "kernelspec": {
   "display_name": "Python 3.8.2 64-bit",
   "language": "python",
   "name": "python38264bitebd592a79cf749eda17ae5222cd6eca2"
  },
  "language_info": {
   "codemirror_mode": {
    "name": "ipython",
    "version": 3
   },
   "file_extension": ".py",
   "mimetype": "text/x-python",
   "name": "python",
   "nbconvert_exporter": "python",
   "pygments_lexer": "ipython3",
   "version": "3.8.6"
  }
 },
 "nbformat": 4,
 "nbformat_minor": 4
}
