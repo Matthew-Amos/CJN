{
 "cells": [
  {
   "cell_type": "code",
   "execution_count": 2,
   "metadata": {},
   "outputs": [
    {
     "data": {
      "text/plain": [
       "\"\\nThis compiles all of a notebook's code cells into a single file.\\n\""
      ]
     },
     "execution_count": 2,
     "metadata": {},
     "output_type": "execute_result"
    }
   ],
   "source": [
    "#% ignore\n",
    "\"\"\"\n",
    "This compiles all of a notebook's code cells into a single file.\n",
    "\"\"\""
   ]
  },
  {
   "cell_type": "code",
   "execution_count": 3,
   "metadata": {},
   "outputs": [],
   "source": [
    "#% compile\n",
    "import json\n",
    "\n",
    "CJN_FLAG_PREFIX = \"#%\"\n",
    "CJN_FLAG_IGNORE = CJN_FLAG_PREFIX + \" \" + \"IGNORE\"\n",
    "CJN_FLAG_COMPILE = CJN_FLAG_PREFIX + \" \" + \"COMPILE\"\n",
    "\n",
    "CJN_OPT_COMPILE_MARKED = \"compile_marked\"\n",
    "CJN_OPT_ENFORCE_EXEC_COUNT = \"enforce_exec_count\""
   ]
  },
  {
   "cell_type": "code",
   "execution_count": 4,
   "metadata": {},
   "outputs": [],
   "source": [
    "#% compile\n",
    "def _read_json(fpath):\n",
    "    with open(fpath, 'r') as f:\n",
    "        s = f.read()\n",
    "    return json.loads(s)"
   ]
  },
  {
   "cell_type": "code",
   "execution_count": 5,
   "metadata": {},
   "outputs": [
    {
     "data": {
      "text/plain": [
       "55"
      ]
     },
     "execution_count": 5,
     "metadata": {},
     "output_type": "execute_result"
    }
   ],
   "source": [
    "#% ignore\n",
    "ex = _read_json('CJN.ipynb')\n",
    "ex['cells'][1]['execution_count']"
   ]
  },
  {
   "cell_type": "code",
   "execution_count": 6,
   "metadata": {},
   "outputs": [],
   "source": [
    "#% compile\n",
    "def _clean_cell_head(cell):\n",
    "    return cell['source'][0].upper().strip()\n",
    "\n",
    "def _cell_can_compile(cell, opts):\n",
    "    if not cell['cell_type']=='code':\n",
    "        return False\n",
    "    if len(cell['source'])==0:\n",
    "        return False\n",
    "    if _clean_cell_head(cell)==CJN_FLAG_IGNORE:\n",
    "        return False\n",
    "    if CJN_OPT_COMPILE_MARKED in opts:\n",
    "        if opts[CJN_OPT_COMPILE_MARKED]:\n",
    "            return _clean_cell_head(cell)==CJN_FLAG_COMPILE\n",
    "    return True\n",
    "\n",
    "def compile_notebook(notebook, output, opts={}):\n",
    "    nb = _read_json(notebook)\n",
    "    code = ''\n",
    "    \n",
    "    def build_exec_count_fn(opts):\n",
    "        if CJN_OPT_ENFORCE_EXEC_COUNT in opts:\n",
    "            if opts[CJN_OPT_ENFORCE_EXEC_COUNT]:\n",
    "                return lambda c_p: (c_p[0]['execution_count'] > c_p[1], c_p[0]['execution_count'])\n",
    "        return lambda c_p: True, None\n",
    "    \n",
    "    exec_count_check = build_exec_count_fn(opts)\n",
    "    \n",
    "    p = 0\n",
    "    for cell in nb['cells']:\n",
    "        if _cell_can_compile(cell, opts):\n",
    "            contig, p = exec_count_check((cell, p))\n",
    "            if not contig:\n",
    "                raise Exception(\"Cell execution count was not contiguous.\")\n",
    "            \n",
    "            for i in range(len(cell['source'])):\n",
    "                line = cell['source'][i]\n",
    "                if i > 0 or line[0:2] != CJN_FLAG_PREFIX:\n",
    "                    code += line\n",
    "            code += '\\n\\n'\n",
    "    \n",
    "    with open(output, 'w') as f:\n",
    "        f.write(code)"
   ]
  },
  {
   "cell_type": "code",
   "execution_count": 7,
   "metadata": {},
   "outputs": [],
   "source": [
    "#% compile\n",
    "def load_compscript(compscript):\n",
    "    return _read_json(compscript)\n",
    "\n",
    "def save_compscript(script_def, compscript):\n",
    "    j = json.dumps(script_def)\n",
    "    with open(output, 'w') as f:\n",
    "        f.write(j)\n",
    "\n",
    "def append_compscript(file_defs, compscript):\n",
    "    j = load_compscript(compscript)\n",
    "    for fd in file_defs.keys():\n",
    "        j[fd] = file_defs[fd]\n",
    "    save_compscript(j, compscript)"
   ]
  },
  {
   "cell_type": "code",
   "execution_count": 8,
   "metadata": {},
   "outputs": [
    {
     "data": {
      "text/plain": [
       "'{\"CJN.ipynb\": {\"output\": \"CJN.py\", \"opts\": {\"compile_marked\": true, \"enforce_exec_count\": true}}}'"
      ]
     },
     "execution_count": 8,
     "metadata": {},
     "output_type": "execute_result"
    }
   ],
   "source": [
    "#% ignore\n",
    "ex_compilescript = {\n",
    "    'CJN.ipynb': {\n",
    "        'output': 'CJN.py',\n",
    "        'opts': { 'compile_marked': True, 'enforce_exec_count': True }\n",
    "    }\n",
    "}\n",
    "\n",
    "json.dumps(ex_compilescript)"
   ]
  },
  {
   "cell_type": "code",
   "execution_count": 9,
   "metadata": {},
   "outputs": [],
   "source": [
    "#% compile\n",
    "def run_compile_script(compscript):\n",
    "    cs = load_compscript(compscript)\n",
    "    \n",
    "    for f in cs.keys():\n",
    "        compile_notebook(f, cs[f]['output'], cs[f]['opts'])"
   ]
  },
  {
   "cell_type": "code",
   "execution_count": 10,
   "metadata": {},
   "outputs": [
    {
     "name": "stdout",
     "output_type": "stream",
     "text": [
      "55 > 55 == True\n",
      "56 > 56 == True\n",
      "58 > 58 == True\n",
      "59 > 59 == True\n",
      "60 > 60 == True\n"
     ]
    }
   ],
   "source": [
    "#% ignore\n",
    "nb = _read_json(\"CJN.ipynb\")\n",
    "checker = lambda c_p: (c_p[0]['execution_count'] > c_p[1], c_p[0]['execution_count'])\n",
    "p = 0\n",
    "for cell in nb['cells']:\n",
    "    if _cell_can_compile(cell, {'compile_marked': True}):\n",
    "        contig, p = checker((cell, p))\n",
    "        print(f\"{cell['execution_count']} > {p} == {contig}\")"
   ]
  },
  {
   "cell_type": "code",
   "execution_count": 11,
   "metadata": {},
   "outputs": [],
   "source": [
    "#% ignore\n",
    "compile_notebook(\"CJN.ipynb\", \"CJN.py\", opts={'compile_marked': True, 'enforce_exec_count': True})"
   ]
  },
  {
   "cell_type": "code",
   "execution_count": 12,
   "metadata": {},
   "outputs": [
    {
     "ename": "NameError",
     "evalue": "name 'output' is not defined",
     "output_type": "error",
     "traceback": [
      "\u001b[0;31m---------------------------------------------------------------------------\u001b[0m",
      "\u001b[0;31mNameError\u001b[0m                                 Traceback (most recent call last)",
      "\u001b[0;32m<ipython-input-12-8ee52758a454>\u001b[0m in \u001b[0;36m<module>\u001b[0;34m\u001b[0m\n\u001b[1;32m      1\u001b[0m \u001b[0;31m#% ignore\u001b[0m\u001b[0;34m\u001b[0m\u001b[0;34m\u001b[0m\u001b[0;34m\u001b[0m\u001b[0m\n\u001b[0;32m----> 2\u001b[0;31m \u001b[0msave_compscript\u001b[0m\u001b[0;34m(\u001b[0m\u001b[0;34m{\u001b[0m\u001b[0;34m'CJN.ipynb'\u001b[0m\u001b[0;34m:\u001b[0m \u001b[0;34m{\u001b[0m\u001b[0;34m'output'\u001b[0m\u001b[0;34m:\u001b[0m \u001b[0;34m'CJN.py'\u001b[0m\u001b[0;34m,\u001b[0m \u001b[0;34m'opts'\u001b[0m\u001b[0;34m:\u001b[0m \u001b[0;34m{\u001b[0m\u001b[0;34m'compile_marked'\u001b[0m\u001b[0;34m:\u001b[0m \u001b[0;32mFalse\u001b[0m\u001b[0;34m}\u001b[0m\u001b[0;34m}\u001b[0m\u001b[0;34m}\u001b[0m\u001b[0;34m,\u001b[0m \u001b[0;34m'compile.json'\u001b[0m\u001b[0;34m)\u001b[0m\u001b[0;34m\u001b[0m\u001b[0;34m\u001b[0m\u001b[0m\n\u001b[0m\u001b[1;32m      3\u001b[0m \u001b[0mrun_compile_script\u001b[0m\u001b[0;34m(\u001b[0m\u001b[0;34m'compile.json'\u001b[0m\u001b[0;34m)\u001b[0m\u001b[0;34m\u001b[0m\u001b[0;34m\u001b[0m\u001b[0m\n",
      "\u001b[0;32m<ipython-input-7-d7a7d524f068>\u001b[0m in \u001b[0;36msave_compscript\u001b[0;34m(script_def, compscript)\u001b[0m\n\u001b[1;32m      5\u001b[0m \u001b[0;32mdef\u001b[0m \u001b[0msave_compscript\u001b[0m\u001b[0;34m(\u001b[0m\u001b[0mscript_def\u001b[0m\u001b[0;34m,\u001b[0m \u001b[0mcompscript\u001b[0m\u001b[0;34m)\u001b[0m\u001b[0;34m:\u001b[0m\u001b[0;34m\u001b[0m\u001b[0;34m\u001b[0m\u001b[0m\n\u001b[1;32m      6\u001b[0m     \u001b[0mj\u001b[0m \u001b[0;34m=\u001b[0m \u001b[0mjson\u001b[0m\u001b[0;34m.\u001b[0m\u001b[0mdumps\u001b[0m\u001b[0;34m(\u001b[0m\u001b[0mscript_def\u001b[0m\u001b[0;34m)\u001b[0m\u001b[0;34m\u001b[0m\u001b[0;34m\u001b[0m\u001b[0m\n\u001b[0;32m----> 7\u001b[0;31m     \u001b[0;32mwith\u001b[0m \u001b[0mopen\u001b[0m\u001b[0;34m(\u001b[0m\u001b[0moutput\u001b[0m\u001b[0;34m,\u001b[0m \u001b[0;34m'w'\u001b[0m\u001b[0;34m)\u001b[0m \u001b[0;32mas\u001b[0m \u001b[0mf\u001b[0m\u001b[0;34m:\u001b[0m\u001b[0;34m\u001b[0m\u001b[0;34m\u001b[0m\u001b[0m\n\u001b[0m\u001b[1;32m      8\u001b[0m         \u001b[0mf\u001b[0m\u001b[0;34m.\u001b[0m\u001b[0mwrite\u001b[0m\u001b[0;34m(\u001b[0m\u001b[0mj\u001b[0m\u001b[0;34m)\u001b[0m\u001b[0;34m\u001b[0m\u001b[0;34m\u001b[0m\u001b[0m\n\u001b[1;32m      9\u001b[0m \u001b[0;34m\u001b[0m\u001b[0m\n",
      "\u001b[0;31mNameError\u001b[0m: name 'output' is not defined"
     ]
    }
   ],
   "source": [
    "#% ignore\n",
    "save_compscript({'CJN.ipynb': {'output': 'CJN.py', 'opts': {'compile_marked': False}}}, 'compile.json')\n",
    "run_compile_script('compile.json')"
   ]
  },
  {
   "cell_type": "code",
   "execution_count": null,
   "metadata": {},
   "outputs": [],
   "source": []
  }
 ],
 "metadata": {
  "kernelspec": {
   "display_name": "Python 3.8.2 64-bit",
   "language": "python",
   "name": "python38264bitebd592a79cf749eda17ae5222cd6eca2"
  },
  "language_info": {
   "codemirror_mode": {
    "name": "ipython",
    "version": 3
   },
   "file_extension": ".py",
   "mimetype": "text/x-python",
   "name": "python",
   "nbconvert_exporter": "python",
   "pygments_lexer": "ipython3",
   "version": "3.8.6"
  }
 },
 "nbformat": 4,
 "nbformat_minor": 4
}
